{
 "metadata": {
  "language_info": {
   "codemirror_mode": {
    "name": "ipython",
    "version": 3
   },
   "file_extension": ".py",
   "mimetype": "text/x-python",
   "name": "python",
   "nbconvert_exporter": "python",
   "pygments_lexer": "ipython3",
   "version": "3.7.3-final"
  },
  "orig_nbformat": 2,
  "kernelspec": {
   "name": "python3",
   "display_name": "Python 3",
   "language": "python"
  }
 },
 "nbformat": 4,
 "nbformat_minor": 2,
 "cells": [
  {
   "cell_type": "code",
   "execution_count": 1,
   "metadata": {},
   "outputs": [],
   "source": [
    "# Load gk_reflexes, gk_kicking, and gk_handling, from Player_Attributes. We will be using these values for classification.\n",
    "\n",
    "#Logistic Regression\n",
    "#Support Vector Machine\n",
    "#Decision Tree\n",
    "#Knn"
   ]
  },
  {
   "cell_type": "code",
   "execution_count": 2,
   "metadata": {},
   "outputs": [],
   "source": [
    "from sklearn import preprocessing\n",
    "import numpy as np \n",
    "import pandas as pd \n",
    "from sklearn.linear_model import LogisticRegression\n",
    "from sklearn.tree import DecisionTreeClassifier\n",
    "from sklearn import svm\n",
    "from sklearn.neighbors import KNeighborsClassifier\n",
    "from sklearn.model_selection import train_test_split\n",
    "from sklearn.preprocessing import StandardScaler\n",
    "from sklearn.metrics import r2_score"
   ]
  },
  {
   "cell_type": "code",
   "execution_count": 3,
   "metadata": {},
   "outputs": [],
   "source": [
    "#Import soccer data(database.sqlite) using pandas.\n",
    "\n",
    "import sqlite3\n",
    "db = 'database.sqlite'\n",
    "conn = sqlite3.connect(db)\n",
    "cur = conn.cursor()"
   ]
  },
  {
   "cell_type": "code",
   "execution_count": 4,
   "metadata": {},
   "outputs": [
    {
     "output_type": "execute_result",
     "data": {
      "text/plain": [
       "   id  player_fifa_api_id  player_api_id                 date  overall_rating  \\\n",
       "0   1              218353         505942  2016-02-18 00:00:00            67.0   \n",
       "1   2              218353         505942  2015-11-19 00:00:00            67.0   \n",
       "2   3              218353         505942  2015-09-21 00:00:00            62.0   \n",
       "3   4              218353         505942  2015-03-20 00:00:00            61.0   \n",
       "4   5              218353         505942  2007-02-22 00:00:00            61.0   \n",
       "\n",
       "   potential preferred_foot attacking_work_rate defensive_work_rate  crossing  \\\n",
       "0       71.0          right              medium              medium      49.0   \n",
       "1       71.0          right              medium              medium      49.0   \n",
       "2       66.0          right              medium              medium      49.0   \n",
       "3       65.0          right              medium              medium      48.0   \n",
       "4       65.0          right              medium              medium      48.0   \n",
       "\n",
       "   ...  vision  penalties  marking  standing_tackle  sliding_tackle  \\\n",
       "0  ...    54.0       48.0     65.0             69.0            69.0   \n",
       "1  ...    54.0       48.0     65.0             69.0            69.0   \n",
       "2  ...    54.0       48.0     65.0             66.0            69.0   \n",
       "3  ...    53.0       47.0     62.0             63.0            66.0   \n",
       "4  ...    53.0       47.0     62.0             63.0            66.0   \n",
       "\n",
       "   gk_diving  gk_handling  gk_kicking  gk_positioning  gk_reflexes  \n",
       "0        6.0         11.0        10.0             8.0          8.0  \n",
       "1        6.0         11.0        10.0             8.0          8.0  \n",
       "2        6.0         11.0        10.0             8.0          8.0  \n",
       "3        5.0         10.0         9.0             7.0          7.0  \n",
       "4        5.0         10.0         9.0             7.0          7.0  \n",
       "\n",
       "[5 rows x 42 columns]"
      ],
      "text/html": "<div>\n<style scoped>\n    .dataframe tbody tr th:only-of-type {\n        vertical-align: middle;\n    }\n\n    .dataframe tbody tr th {\n        vertical-align: top;\n    }\n\n    .dataframe thead th {\n        text-align: right;\n    }\n</style>\n<table border=\"1\" class=\"dataframe\">\n  <thead>\n    <tr style=\"text-align: right;\">\n      <th></th>\n      <th>id</th>\n      <th>player_fifa_api_id</th>\n      <th>player_api_id</th>\n      <th>date</th>\n      <th>overall_rating</th>\n      <th>potential</th>\n      <th>preferred_foot</th>\n      <th>attacking_work_rate</th>\n      <th>defensive_work_rate</th>\n      <th>crossing</th>\n      <th>...</th>\n      <th>vision</th>\n      <th>penalties</th>\n      <th>marking</th>\n      <th>standing_tackle</th>\n      <th>sliding_tackle</th>\n      <th>gk_diving</th>\n      <th>gk_handling</th>\n      <th>gk_kicking</th>\n      <th>gk_positioning</th>\n      <th>gk_reflexes</th>\n    </tr>\n  </thead>\n  <tbody>\n    <tr>\n      <th>0</th>\n      <td>1</td>\n      <td>218353</td>\n      <td>505942</td>\n      <td>2016-02-18 00:00:00</td>\n      <td>67.0</td>\n      <td>71.0</td>\n      <td>right</td>\n      <td>medium</td>\n      <td>medium</td>\n      <td>49.0</td>\n      <td>...</td>\n      <td>54.0</td>\n      <td>48.0</td>\n      <td>65.0</td>\n      <td>69.0</td>\n      <td>69.0</td>\n      <td>6.0</td>\n      <td>11.0</td>\n      <td>10.0</td>\n      <td>8.0</td>\n      <td>8.0</td>\n    </tr>\n    <tr>\n      <th>1</th>\n      <td>2</td>\n      <td>218353</td>\n      <td>505942</td>\n      <td>2015-11-19 00:00:00</td>\n      <td>67.0</td>\n      <td>71.0</td>\n      <td>right</td>\n      <td>medium</td>\n      <td>medium</td>\n      <td>49.0</td>\n      <td>...</td>\n      <td>54.0</td>\n      <td>48.0</td>\n      <td>65.0</td>\n      <td>69.0</td>\n      <td>69.0</td>\n      <td>6.0</td>\n      <td>11.0</td>\n      <td>10.0</td>\n      <td>8.0</td>\n      <td>8.0</td>\n    </tr>\n    <tr>\n      <th>2</th>\n      <td>3</td>\n      <td>218353</td>\n      <td>505942</td>\n      <td>2015-09-21 00:00:00</td>\n      <td>62.0</td>\n      <td>66.0</td>\n      <td>right</td>\n      <td>medium</td>\n      <td>medium</td>\n      <td>49.0</td>\n      <td>...</td>\n      <td>54.0</td>\n      <td>48.0</td>\n      <td>65.0</td>\n      <td>66.0</td>\n      <td>69.0</td>\n      <td>6.0</td>\n      <td>11.0</td>\n      <td>10.0</td>\n      <td>8.0</td>\n      <td>8.0</td>\n    </tr>\n    <tr>\n      <th>3</th>\n      <td>4</td>\n      <td>218353</td>\n      <td>505942</td>\n      <td>2015-03-20 00:00:00</td>\n      <td>61.0</td>\n      <td>65.0</td>\n      <td>right</td>\n      <td>medium</td>\n      <td>medium</td>\n      <td>48.0</td>\n      <td>...</td>\n      <td>53.0</td>\n      <td>47.0</td>\n      <td>62.0</td>\n      <td>63.0</td>\n      <td>66.0</td>\n      <td>5.0</td>\n      <td>10.0</td>\n      <td>9.0</td>\n      <td>7.0</td>\n      <td>7.0</td>\n    </tr>\n    <tr>\n      <th>4</th>\n      <td>5</td>\n      <td>218353</td>\n      <td>505942</td>\n      <td>2007-02-22 00:00:00</td>\n      <td>61.0</td>\n      <td>65.0</td>\n      <td>right</td>\n      <td>medium</td>\n      <td>medium</td>\n      <td>48.0</td>\n      <td>...</td>\n      <td>53.0</td>\n      <td>47.0</td>\n      <td>62.0</td>\n      <td>63.0</td>\n      <td>66.0</td>\n      <td>5.0</td>\n      <td>10.0</td>\n      <td>9.0</td>\n      <td>7.0</td>\n      <td>7.0</td>\n    </tr>\n  </tbody>\n</table>\n<p>5 rows × 42 columns</p>\n</div>"
     },
     "metadata": {},
     "execution_count": 4
    }
   ],
   "source": [
    "#Load the values from the attributes gk_reflexes, gk_kicking, and gk_handling from table Player_Attributes.\n",
    "\n",
    "df = pd.read_sql(\"SELECT * from Player_Attributes\", conn)\n",
    "df.fillna(11, inplace=True)\n",
    "\n",
    "df.head()"
   ]
  },
  {
   "cell_type": "code",
   "execution_count": 5,
   "metadata": {},
   "outputs": [],
   "source": [
    "#Using gk_reflexes and gk_kicking:\n",
    "#split the data into testing and training sets\n",
    "#Apply the following methods and print the resulting accuracy_score #from sklearn.metrics:\n",
    "\n",
    "#x_data = df[gk_reflexes]\n",
    "x_data = df[['gk_reflexes']].values\n",
    "y_data = df[['gk_kicking']].values\n",
    "\n",
    "#Split the data into training and testing in 0.3 ratio (70% training, 30% testing)\n",
    "##This is the default split, so don't do anything.\n",
    "X_train, X_test, Y_train, Y_test = train_test_split(x_data, y_data)"
   ]
  },
  {
   "cell_type": "code",
   "execution_count": 9,
   "metadata": {},
   "outputs": [
    {
     "output_type": "stream",
     "name": "stderr",
     "text": [
      "C:\\Users\\benso\\Anaconda3\\lib\\site-packages\\sklearn\\linear_model\\_logistic.py:765: ConvergenceWarning: lbfgs failed to converge (status=1):\nSTOP: TOTAL NO. of ITERATIONS REACHED LIMIT.\n\nIncrease the number of iterations (max_iter) or scale the data as shown in:\n    https://scikit-learn.org/stable/modules/preprocessing.html\nPlease also refer to the documentation for alternative solver options:\n    https://scikit-learn.org/stable/modules/linear_model.html#logistic-regression\n  extra_warning_msg=_LOGISTIC_SOLVER_CONVERGENCE_MSG)\n"
     ]
    },
    {
     "output_type": "execute_result",
     "data": {
      "text/plain": [
       "0.08000869659745624"
      ]
     },
     "metadata": {},
     "execution_count": 9
    }
   ],
   "source": [
    "from sklearn import metrics\n",
    "\n",
    "#Logistic Regression\n",
    "\n",
    "model = LogisticRegression()\n",
    "log_reg = model.fit(X_train, Y_train.ravel())\n",
    "\n",
    "\n",
    "#print the resulting accuracy_score from sklearn.metrics\n",
    "\n",
    "log_pred = log_reg.predict(X_test)\n",
    "\n",
    "accuracy = metrics.accuracy_score(Y_test, log_pred)\n",
    "#accuracy_percentage = 100 * accuracy\n",
    "accuracy"
   ]
  },
  {
   "cell_type": "code",
   "execution_count": 16,
   "metadata": {},
   "outputs": [],
   "source": [
    "#scale and split data\n",
    "\n",
    "scaler = preprocessing.StandardScaler()\n",
    "scaler.fit(X_train)\n",
    "scaler.transform(X_train)\n",
    "x_transformed_train = preprocessing.scale(X_train)\n",
    "x_transformed_test = preprocessing.scale(X_test)"
   ]
  },
  {
   "cell_type": "code",
   "execution_count": 9,
   "metadata": {},
   "outputs": [],
   "source": [
    "#Support Vector Machine\n",
    "\n",
    "model = svm.SVC()\n",
    "\n",
    "svm_mod = model.fit(x_transformed_train, Y_train.ravel())\n",
    "\n",
    "svm_preds = svm_mod.predict(X_test)\n",
    "\n",
    "accuracy = metrics.accuracy_score(Y_test, svm_preds)\n",
    "accuracy\n"
   ]
  },
  {
   "cell_type": "code",
   "execution_count": 8,
   "metadata": {},
   "outputs": [
    {
     "output_type": "execute_result",
     "data": {
      "text/plain": [
       "0.005718012827481248"
      ]
     },
     "metadata": {},
     "execution_count": 8
    }
   ],
   "source": [
    "#Decision Tree\n",
    "from sklearn import metrics\n",
    "\n",
    "model = DecisionTreeClassifier()\n",
    "\n",
    "dt_mod = model.fit(x_transformed_train, Y_train.ravel())\n",
    "\n",
    "dt_preds = dt_mod.predict(X_test)\n",
    "\n",
    "accuracy = metrics.accuracy_score(Y_test, dt_preds)\n",
    "accuracy"
   ]
  },
  {
   "cell_type": "code",
   "execution_count": 9,
   "metadata": {},
   "outputs": [
    {
     "output_type": "execute_result",
     "data": {
      "text/plain": [
       "0.005718012827481248"
      ]
     },
     "metadata": {},
     "execution_count": 9
    }
   ],
   "source": [
    "#KNN\n",
    "\n",
    "model = KNeighborsClassifier()\n",
    "\n",
    "knn_mod = model.fit(x_transformed_train, Y_train.ravel())\n",
    "\n",
    "knn_preds = knn_mod.predict(X_test)\n",
    "\n",
    "accuracy = metrics.accuracy_score(Y_test, knn_preds)\n",
    "accuracy\n",
    "\n",
    "\n"
   ]
  },
  {
   "cell_type": "code",
   "execution_count": null,
   "metadata": {},
   "outputs": [],
   "source": [
    "#Run through step 2 again, this time using gk_kicking and gk_handling, and printing out the corrosponding accuracy_score."
   ]
  },
  {
   "cell_type": "code",
   "execution_count": 10,
   "metadata": {},
   "outputs": [],
   "source": [
    "x_data = df[['gk_handling']].values\n",
    "y_data = df[['gk_kicking']].values\n",
    "\n",
    "#Split the data into training and testing in 0.3 ratio (70% training, 30% testing)\n",
    "##This is the default split, so don't do anything.\n",
    "X_train, X_test, Y_train, Y_test = train_test_split(x_data, y_data)"
   ]
  },
  {
   "cell_type": "code",
   "execution_count": 12,
   "metadata": {},
   "outputs": [],
   "source": [
    "scaler = preprocessing.StandardScaler()\n",
    "scaler.fit(X_train)\n",
    "scaler.transform(X_train)\n",
    "x_transformed_train = preprocessing.scale(X_train)\n",
    "x_transformed_test = preprocessing.scale(X_test)"
   ]
  },
  {
   "cell_type": "code",
   "execution_count": 11,
   "metadata": {},
   "outputs": [
    {
     "output_type": "stream",
     "name": "stderr",
     "text": [
      "C:\\Users\\benso\\Anaconda3\\lib\\site-packages\\sklearn\\linear_model\\_logistic.py:765: ConvergenceWarning: lbfgs failed to converge (status=1):\nSTOP: TOTAL NO. of ITERATIONS REACHED LIMIT.\n\nIncrease the number of iterations (max_iter) or scale the data as shown in:\n    https://scikit-learn.org/stable/modules/preprocessing.html\nPlease also refer to the documentation for alternative solver options:\n    https://scikit-learn.org/stable/modules/linear_model.html#logistic-regression\n  extra_warning_msg=_LOGISTIC_SOLVER_CONVERGENCE_MSG)\n"
     ]
    },
    {
     "output_type": "execute_result",
     "data": {
      "text/plain": [
       "0.0795956082182846"
      ]
     },
     "metadata": {},
     "execution_count": 11
    }
   ],
   "source": [
    "from sklearn import metrics\n",
    "\n",
    "#Logistic Regression\n",
    "\n",
    "model = LogisticRegression()\n",
    "log_reg = model.fit(X_train, Y_train.ravel())\n",
    "\n",
    "\n",
    "#print the resulting accuracy_score from sklearn.metrics\n",
    "\n",
    "log_pred = log_reg.predict(X_test)\n",
    "\n",
    "accuracy = metrics.accuracy_score(Y_test, log_pred)\n",
    "#accuracy_percentage = 100 * accuracy\n",
    "accuracy"
   ]
  },
  {
   "cell_type": "code",
   "execution_count": 15,
   "metadata": {},
   "outputs": [
    {
     "output_type": "execute_result",
     "data": {
      "text/plain": [
       "0.00621806718121535"
      ]
     },
     "metadata": {},
     "execution_count": 15
    }
   ],
   "source": [
    "#Support Vector Machine\n",
    "\n",
    "model = svm.SVC()\n",
    "\n",
    "svm_mod = model.fit(x_transformed_train, Y_train.ravel())\n",
    "\n",
    "svm_preds = svm_mod.predict(X_test)\n",
    "\n",
    "accuracy = metrics.accuracy_score(Y_test, svm_preds)\n",
    "accuracy"
   ]
  },
  {
   "cell_type": "code",
   "execution_count": 13,
   "metadata": {},
   "outputs": [
    {
     "output_type": "execute_result",
     "data": {
      "text/plain": [
       "0.0010653331883900424"
      ]
     },
     "metadata": {},
     "execution_count": 13
    }
   ],
   "source": [
    "#Decision Tree\n",
    "\n",
    "model = DecisionTreeClassifier()\n",
    "\n",
    "dt_mod = model.fit(x_transformed_train, Y_train.ravel())\n",
    "\n",
    "dt_preds = dt_mod.predict(X_test)\n",
    "\n",
    "accuracy = metrics.accuracy_score(Y_test, dt_preds)\n",
    "accuracy"
   ]
  },
  {
   "cell_type": "code",
   "execution_count": 14,
   "metadata": {},
   "outputs": [
    {
     "output_type": "execute_result",
     "data": {
      "text/plain": [
       "0.0010435916947494294"
      ]
     },
     "metadata": {},
     "execution_count": 14
    }
   ],
   "source": [
    "#KNN\n",
    "\n",
    "model = KNeighborsClassifier()\n",
    "\n",
    "knn_mod = model.fit(x_transformed_train, Y_train.ravel())\n",
    "\n",
    "knn_preds = knn_mod.predict(X_test)\n",
    "\n",
    "accuracy = metrics.accuracy_score(Y_test, knn_preds)\n",
    "accuracy\n"
   ]
  },
  {
   "cell_type": "code",
   "execution_count": null,
   "metadata": {},
   "outputs": [],
   "source": [
    "#Since this assignment (Classification) and the previous assignment (Regression) are with the same data, can you compare and conclude which technique is yielding best results?\n",
    "\n",
    "\n",
    "\n",
    "#This is continuous data, so using a classifier is going to produce very bad results. When we're trying to predict continuous data, we need to use a regression algorithm. Out of these classifiers, logistic regression performs the best (though still very badly) because logistic regression is still a classifier, but is also partly a regressor. Now, if we really wanted to use a classifier, we could bin our continuous data."
   ]
  }
 ]
}